{
 "cells": [
  {
   "cell_type": "code",
   "execution_count": 39,
   "id": "c8bd069c",
   "metadata": {},
   "outputs": [
    {
     "name": "stdout",
     "output_type": "stream",
     "text": [
      "First 5 records:\n"
     ]
    },
    {
     "data": {
      "text/html": [
       "<div>\n",
       "<style scoped>\n",
       "    .dataframe tbody tr th:only-of-type {\n",
       "        vertical-align: middle;\n",
       "    }\n",
       "\n",
       "    .dataframe tbody tr th {\n",
       "        vertical-align: top;\n",
       "    }\n",
       "\n",
       "    .dataframe thead th {\n",
       "        text-align: right;\n",
       "    }\n",
       "</style>\n",
       "<table border=\"1\" class=\"dataframe\">\n",
       "  <thead>\n",
       "    <tr style=\"text-align: right;\">\n",
       "      <th></th>\n",
       "      <th>chan_id</th>\n",
       "      <th>spacecraft</th>\n",
       "      <th>anomaly_sequences</th>\n",
       "      <th>class</th>\n",
       "      <th>num_values</th>\n",
       "    </tr>\n",
       "  </thead>\n",
       "  <tbody>\n",
       "    <tr>\n",
       "      <th>0</th>\n",
       "      <td>P-1</td>\n",
       "      <td>SMAP</td>\n",
       "      <td>[[2149, 2349], [4536, 4844], [3539, 3779]]</td>\n",
       "      <td>[contextual, contextual, contextual]</td>\n",
       "      <td>8505</td>\n",
       "    </tr>\n",
       "    <tr>\n",
       "      <th>1</th>\n",
       "      <td>S-1</td>\n",
       "      <td>SMAP</td>\n",
       "      <td>[[5300, 5747]]</td>\n",
       "      <td>[point]</td>\n",
       "      <td>7331</td>\n",
       "    </tr>\n",
       "    <tr>\n",
       "      <th>2</th>\n",
       "      <td>E-1</td>\n",
       "      <td>SMAP</td>\n",
       "      <td>[[5000, 5030], [5610, 6086]]</td>\n",
       "      <td>[contextual, contextual]</td>\n",
       "      <td>8516</td>\n",
       "    </tr>\n",
       "    <tr>\n",
       "      <th>3</th>\n",
       "      <td>E-2</td>\n",
       "      <td>SMAP</td>\n",
       "      <td>[[5598, 6995]]</td>\n",
       "      <td>[point]</td>\n",
       "      <td>8532</td>\n",
       "    </tr>\n",
       "    <tr>\n",
       "      <th>4</th>\n",
       "      <td>E-3</td>\n",
       "      <td>SMAP</td>\n",
       "      <td>[[5094, 8306]]</td>\n",
       "      <td>[point]</td>\n",
       "      <td>8307</td>\n",
       "    </tr>\n",
       "  </tbody>\n",
       "</table>\n",
       "</div>"
      ],
      "text/plain": [
       "  chan_id spacecraft                           anomaly_sequences  \\\n",
       "0     P-1       SMAP  [[2149, 2349], [4536, 4844], [3539, 3779]]   \n",
       "1     S-1       SMAP                              [[5300, 5747]]   \n",
       "2     E-1       SMAP                [[5000, 5030], [5610, 6086]]   \n",
       "3     E-2       SMAP                              [[5598, 6995]]   \n",
       "4     E-3       SMAP                              [[5094, 8306]]   \n",
       "\n",
       "                                  class  num_values  \n",
       "0  [contextual, contextual, contextual]        8505  \n",
       "1                               [point]        7331  \n",
       "2              [contextual, contextual]        8516  \n",
       "3                               [point]        8532  \n",
       "4                               [point]        8307  "
      ]
     },
     "execution_count": 39,
     "metadata": {},
     "output_type": "execute_result"
    }
   ],
   "source": [
    "# Install dependencies as needed:\n",
    "# pip install kagglehub[pandas-datasets]\n",
    "import kagglehub\n",
    "import numpy as np\n",
    "import pandas as pd\n",
    "\n",
    "# Download latest version\n",
    "path = kagglehub.dataset_download(\"patrickfleith/nasa-anomaly-detection-dataset-smap-msl\")\n",
    "\n",
    "chan_df = pd.read_csv(path + '/labeled_anomalies.csv')\n",
    "\n",
    "print(\"First 5 records:\")\n",
    "chan_df.head()\n"
   ]
  },
  {
   "cell_type": "code",
   "execution_count": null,
   "id": "9055dc28",
   "metadata": {},
   "outputs": [],
   "source": [
    "import torch\n",
    "import torch.nn as nn\n",
    "import torch.optim as optim\n",
    "from torch.utils.data import DataLoader, TensorDataset\n",
    "\n",
    "class Autoencoder(nn.Module):\n",
    "    def __init__(self, input_size, hidden_size):\n",
    "        super(Autoencoder, self).__init__()\n",
    "        # Encoder\n",
    "        self.encoder = nn.Sequential(\n",
    "            nn.Linear(input_size, hidden_size),\n",
    "            nn.ReLU()\n",
    "        )\n",
    "        # Decoder\n",
    "        self.decoder = nn.Sequential(\n",
    "            nn.Linear(hidden_size, input_size),\n",
    "            nn.Sigmoid()\n",
    "        )\n",
    "        \n",
    "    def forward(self, x):\n",
    "        encoded = self.encoder(x)\n",
    "        decoded = self.decoder(encoded)\n",
    "        return decoded\n"
   ]
  },
  {
   "cell_type": "code",
   "execution_count": 41,
   "id": "cac9ee54",
   "metadata": {},
   "outputs": [
    {
     "name": "stdout",
     "output_type": "stream",
     "text": [
      "Channel ID: P-1\n",
      "  Train shape: (2872, 25), Test shape: (8505, 25)\n"
     ]
    }
   ],
   "source": [
    "for i, row in chan_df.iterrows():\n",
    "    print(f\"Channel ID: {row['chan_id']}\")\n",
    "    chan_train = np.load(path + f'/data/data/train/{row[\"chan_id\"]}.npy')\n",
    "    chan_test = np.load(path + f'/data/data/test/{row[\"chan_id\"]}.npy')\n",
    "    chan_anomalies = np.zeros(chan_test.shape[0], dtype=int)\n",
    "    for (start, end) in eval(row['anomaly_sequences']):\n",
    "        chan_anomalies[start:end+1] = 1  # Mark anomalies in the test set\n",
    "    print(f\"  Train shape: {chan_train.shape}, Test shape: {chan_test.shape}\")\n",
    "    break\n",
    "    \n"
   ]
  },
  {
   "cell_type": "code",
   "execution_count": 42,
   "id": "8f126b32",
   "metadata": {},
   "outputs": [
    {
     "name": "stdout",
     "output_type": "stream",
     "text": [
      "Using MPS device\n"
     ]
    }
   ],
   "source": [
    "if torch.backends.mps.is_available():\n",
    "    device = torch.device(\"mps\")\n",
    "    print(\"Using MPS device\")\n",
    "elif torch.cuda.is_available():\n",
    "    device = torch.device(\"cuda\")\n",
    "    print(\"Using CUDA device\")\n",
    "else:\n",
    "    device = torch.device(\"cpu\")\n",
    "    print(\"Using CPU device\")"
   ]
  },
  {
   "cell_type": "code",
   "execution_count": 43,
   "id": "c8a3f116",
   "metadata": {},
   "outputs": [
    {
     "name": "stdout",
     "output_type": "stream",
     "text": [
      "Epoch [10/500], Loss: 0.0156\n",
      "Epoch [20/500], Loss: 0.0138\n",
      "Epoch [30/500], Loss: 0.0134\n",
      "Epoch [40/500], Loss: 0.0130\n",
      "Epoch [50/500], Loss: 0.0128\n",
      "Epoch [60/500], Loss: 0.0126\n",
      "Epoch [70/500], Loss: 0.0126\n",
      "Epoch [80/500], Loss: 0.0125\n",
      "Epoch [90/500], Loss: 0.0124\n",
      "Epoch [100/500], Loss: 0.0124\n",
      "Epoch [110/500], Loss: 0.0123\n",
      "Epoch [120/500], Loss: 0.0123\n",
      "Epoch [130/500], Loss: 0.0123\n",
      "Epoch [140/500], Loss: 0.0123\n",
      "Epoch [150/500], Loss: 0.0123\n",
      "Epoch [160/500], Loss: 0.0123\n",
      "Epoch [170/500], Loss: 0.0122\n",
      "Epoch [180/500], Loss: 0.0122\n",
      "Epoch [190/500], Loss: 0.0122\n",
      "Epoch [200/500], Loss: 0.0122\n",
      "Epoch [210/500], Loss: 0.0122\n",
      "Epoch [220/500], Loss: 0.0122\n",
      "Epoch [230/500], Loss: 0.0122\n",
      "Epoch [240/500], Loss: 0.0122\n",
      "Epoch [250/500], Loss: 0.0122\n",
      "Epoch [260/500], Loss: 0.0122\n",
      "Epoch [270/500], Loss: 0.0122\n",
      "Epoch [280/500], Loss: 0.0122\n",
      "Epoch [290/500], Loss: 0.0122\n",
      "Epoch [300/500], Loss: 0.0122\n",
      "Epoch [310/500], Loss: 0.0122\n",
      "Epoch [320/500], Loss: 0.0122\n",
      "Epoch [330/500], Loss: 0.0122\n",
      "Epoch [340/500], Loss: 0.0122\n",
      "Epoch [350/500], Loss: 0.0122\n",
      "Epoch [360/500], Loss: 0.0122\n",
      "Epoch [370/500], Loss: 0.0122\n",
      "Epoch [380/500], Loss: 0.0122\n",
      "Epoch [390/500], Loss: 0.0122\n",
      "Epoch [400/500], Loss: 0.0122\n",
      "Epoch [410/500], Loss: 0.0122\n",
      "Epoch [420/500], Loss: 0.0122\n",
      "Epoch [430/500], Loss: 0.0122\n",
      "Epoch [440/500], Loss: 0.0122\n",
      "Epoch [450/500], Loss: 0.0122\n",
      "Epoch [460/500], Loss: 0.0122\n",
      "Epoch [470/500], Loss: 0.0122\n",
      "Epoch [480/500], Loss: 0.0122\n",
      "Epoch [490/500], Loss: 0.0122\n",
      "Epoch [500/500], Loss: 0.0122\n"
     ]
    }
   ],
   "source": [
    "from sklearn.metrics import classification_report\n",
    "\n",
    "train_data = torch.FloatTensor(chan_train)\n",
    "train_dataset = TensorDataset(train_data, train_data)\n",
    "train_dataloader = DataLoader(train_dataset, batch_size=32, shuffle=False)\n",
    "\n",
    "test_data = torch.FloatTensor(chan_test)\n",
    "test_dataset = TensorDataset(test_data, test_data)\n",
    "test_dataloader = DataLoader(test_dataset, batch_size=32, shuffle=False)\n",
    "\n",
    "model = Autoencoder(input_size=chan_train.shape[1], hidden_size=16).to(device)\n",
    "criterion = nn.MSELoss()\n",
    "optimizer = optim.Adam(model.parameters(), lr=0.001)\n",
    "\n",
    "\n",
    "num_epochs = 500\n",
    "for epoch in range(num_epochs):\n",
    "    model.train()\n",
    "    for batch_data, _ in train_dataloader:\n",
    "        batch_data = batch_data.to(device)\n",
    "        optimizer.zero_grad()\n",
    "        outputs = model(batch_data)\n",
    "        loss = criterion(outputs, batch_data)\n",
    "        loss.backward()\n",
    "        optimizer.step()\n",
    "    if (epoch+1) % 10 == 0:\n",
    "        print(f'Epoch [{epoch+1}/{num_epochs}], Loss: {loss.item():.4f}')\n",
    "\n"
   ]
  },
  {
   "cell_type": "code",
   "execution_count": 44,
   "id": "e7b34aa4",
   "metadata": {},
   "outputs": [
    {
     "name": "stdout",
     "output_type": "stream",
     "text": [
      "Reconstruction error threshold (95th percentile): 0.027491537854075432\n"
     ]
    }
   ],
   "source": [
    "import matplotlib.pyplot as plt\n",
    "model.eval()\n",
    "with torch.no_grad():\n",
    "    reconstructed = model(test_data.to(device))\n",
    "    reconstruction_error = torch.mean((test_data.to(device) - reconstructed) ** 2, dim=1).cpu().numpy()\n",
    "\n",
    "    threshold = np.percentile(reconstruction_error, 95)\n",
    "    print(f\"Reconstruction error threshold (95th percentile): {threshold}\")\n",
    "    anomalies = reconstruction_error > threshold\n",
    " \n",
    "    report_dict = classification_report(chan_anomalies, anomalies, output_dict=True)\n",
    "\n",
    "\n"
   ]
  },
  {
   "cell_type": "code",
   "execution_count": 45,
   "id": "3681940f",
   "metadata": {},
   "outputs": [
    {
     "data": {
      "image/png": "[encoded data removed]",
      "text/plain": [
       "<Figure size 800x220 with 2 Axes>"
      ]
     },
     "metadata": {},
     "output_type": "display_data"
    }
   ],
   "source": [
    "# Extract metrics\n",
    "classes = [key for key in report_dict.keys() if key not in ('accuracy', 'macro avg', 'weighted avg')]\n",
    "metrics = ['precision', 'recall', 'f1-score']\n",
    "values = np.array([[report_dict[c][m] for m in metrics] for c in classes])\n",
    "\n",
    "# Plot\n",
    "fig, ax = plt.subplots(figsize=(8, len(classes)*0.6 + 1))\n",
    "im = ax.imshow(values, cmap='Blues', vmin=0, vmax=1)\n",
    "\n",
    "# Show all ticks and labels\n",
    "ax.set_xticks(np.arange(len(metrics)))\n",
    "ax.set_yticks(np.arange(len(classes)))\n",
    "ax.set_xticklabels(metrics)\n",
    "ax.set_yticklabels(classes)\n",
    "\n",
    "# Rotate the tick labels and set alignment\n",
    "plt.setp(ax.get_xticklabels(), rotation=45, ha=\"right\", rotation_mode=\"anchor\")\n",
    "\n",
    "# Loop over data dimensions and create text annotations.\n",
    "for i in range(len(classes)):\n",
    "    for j in range(len(metrics)):\n",
    "        text = ax.text(j, i, f\"{values[i, j]:.2f}\", ha=\"center\", va=\"center\", color=\"black\")\n",
    "\n",
    "ax.set_title(\"Classification Report\")\n",
    "fig.colorbar(im, ax=ax, fraction=0.03, pad=0.04, label='Score')\n",
    "plt.tight_layout()\n",
    "plt.show()"
   ]
  }
 ],
 "metadata": {
  "kernelspec": {
   "display_name": "AE-Comp",
   "language": "python",
   "name": "python3"
  },
  "language_info": {
   "codemirror_mode": {
    "name": "ipython",
    "version": 3
   },
   "file_extension": ".py",
   "mimetype": "text/x-python",
   "name": "python",
   "nbconvert_exporter": "python",
   "pygments_lexer": "ipython3",
   "version": "3.12.0"
  }
 },
 "nbformat": 4,
 "nbformat_minor": 5
}
