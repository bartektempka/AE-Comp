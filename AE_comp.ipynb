{
 "cells": [
  {
   "cell_type": "code",
   "execution_count": 32,
   "id": "c8bd069c",
   "metadata": {},
   "outputs": [
    {
     "name": "stdout",
     "output_type": "stream",
     "text": [
      "First 5 records:\n"
     ]
    },
    {
     "data": {
      "text/html": [
       "<div>\n",
       "<style scoped>\n",
       "    .dataframe tbody tr th:only-of-type {\n",
       "        vertical-align: middle;\n",
       "    }\n",
       "\n",
       "    .dataframe tbody tr th {\n",
       "        vertical-align: top;\n",
       "    }\n",
       "\n",
       "    .dataframe thead th {\n",
       "        text-align: right;\n",
       "    }\n",
       "</style>\n",
       "<table border=\"1\" class=\"dataframe\">\n",
       "  <thead>\n",
       "    <tr style=\"text-align: right;\">\n",
       "      <th></th>\n",
       "      <th>chan_id</th>\n",
       "      <th>spacecraft</th>\n",
       "      <th>anomaly_sequences</th>\n",
       "      <th>class</th>\n",
       "      <th>num_values</th>\n",
       "    </tr>\n",
       "  </thead>\n",
       "  <tbody>\n",
       "    <tr>\n",
       "      <th>0</th>\n",
       "      <td>P-1</td>\n",
       "      <td>SMAP</td>\n",
       "      <td>[[2149, 2349], [4536, 4844], [3539, 3779]]</td>\n",
       "      <td>[contextual, contextual, contextual]</td>\n",
       "      <td>8505</td>\n",
       "    </tr>\n",
       "    <tr>\n",
       "      <th>1</th>\n",
       "      <td>S-1</td>\n",
       "      <td>SMAP</td>\n",
       "      <td>[[5300, 5747]]</td>\n",
       "      <td>[point]</td>\n",
       "      <td>7331</td>\n",
       "    </tr>\n",
       "    <tr>\n",
       "      <th>2</th>\n",
       "      <td>E-1</td>\n",
       "      <td>SMAP</td>\n",
       "      <td>[[5000, 5030], [5610, 6086]]</td>\n",
       "      <td>[contextual, contextual]</td>\n",
       "      <td>8516</td>\n",
       "    </tr>\n",
       "    <tr>\n",
       "      <th>3</th>\n",
       "      <td>E-2</td>\n",
       "      <td>SMAP</td>\n",
       "      <td>[[5598, 6995]]</td>\n",
       "      <td>[point]</td>\n",
       "      <td>8532</td>\n",
       "    </tr>\n",
       "    <tr>\n",
       "      <th>4</th>\n",
       "      <td>E-3</td>\n",
       "      <td>SMAP</td>\n",
       "      <td>[[5094, 8306]]</td>\n",
       "      <td>[point]</td>\n",
       "      <td>8307</td>\n",
       "    </tr>\n",
       "  </tbody>\n",
       "</table>\n",
       "</div>"
      ],
      "text/plain": [
       "  chan_id spacecraft                           anomaly_sequences  \\\n",
       "0     P-1       SMAP  [[2149, 2349], [4536, 4844], [3539, 3779]]   \n",
       "1     S-1       SMAP                              [[5300, 5747]]   \n",
       "2     E-1       SMAP                [[5000, 5030], [5610, 6086]]   \n",
       "3     E-2       SMAP                              [[5598, 6995]]   \n",
       "4     E-3       SMAP                              [[5094, 8306]]   \n",
       "\n",
       "                                  class  num_values  \n",
       "0  [contextual, contextual, contextual]        8505  \n",
       "1                               [point]        7331  \n",
       "2              [contextual, contextual]        8516  \n",
       "3                               [point]        8532  \n",
       "4                               [point]        8307  "
      ]
     },
     "execution_count": 32,
     "metadata": {},
     "output_type": "execute_result"
    }
   ],
   "source": [
    "# Install dependencies as needed:\n",
    "# pip install kagglehub[pandas-datasets]\n",
    "import kagglehub\n",
    "import numpy as np\n",
    "import pandas as pd\n",
    "\n",
    "# Download latest version\n",
    "path = kagglehub.dataset_download(\"patrickfleith/nasa-anomaly-detection-dataset-smap-msl\")\n",
    "\n",
    "chan_df = pd.read_csv(path + '/labeled_anomalies.csv')\n",
    "\n",
    "print(\"First 5 records:\")\n",
    "chan_df.head()\n"
   ]
  },
  {
   "cell_type": "code",
   "execution_count": 33,
   "id": "9055dc28",
   "metadata": {},
   "outputs": [],
   "source": [
    "import torch\n",
    "import torch.nn as nn\n",
    "import torch.optim as optim\n",
    "from torch.utils.data import DataLoader, TensorDataset\n",
    "\n",
    "class Autoencoder(nn.Module):\n",
    "    def __init__(self, input_size, hidden_size):\n",
    "        super(Autoencoder, self).__init__()\n",
    "        # Encoder\n",
    "        self.encoder = nn.Sequential(\n",
    "            nn.Linear(input_size, hidden_size),\n",
    "            nn.ReLU()\n",
    "        )\n",
    "        # Decoder\n",
    "        self.decoder = nn.Sequential(\n",
    "            nn.Linear(hidden_size, input_size),\n",
    "            nn.Sigmoid()\n",
    "        )\n",
    "        \n",
    "    def forward(self, x):\n",
    "        encoded = self.encoder(x)\n",
    "        decoded = self.decoder(encoded)\n",
    "        return decoded\n",
    "\n",
    "class LSTMAutoencoder(nn.Module):\n",
    "    def __init__(self, seq_len, n_features, hidden_size):\n",
    "        super(LSTMAutoencoder, self).__init__()\n",
    "        self.seq_len = seq_len\n",
    "        self.n_features = n_features\n",
    "        self.hidden_size = hidden_size\n",
    "        \n",
    "        # Encoder\n",
    "        self.encoder = nn.LSTM(\n",
    "            input_size=n_features,\n",
    "            hidden_size=hidden_size,\n",
    "            num_layers=1,\n",
    "            batch_first=True\n",
    "        )\n",
    "        \n",
    "        # Decoder\n",
    "        self.decoder = nn.LSTM(\n",
    "            input_size=hidden_size,\n",
    "            hidden_size=n_features,\n",
    "            num_layers=1,\n",
    "            batch_first=True\n",
    "        )\n",
    "    def forward(self, x):\n",
    "        # Encode\n",
    "        _, (hidden, _) = self.encoder(x)\n",
    "        # Repeat hidden state seq_len times\n",
    "        hidden_repeated = hidden.repeat(self.seq_len, 1, 1).permute(1, 0, 2)\n",
    "        # Decode\n",
    "        decoded, _ = self.decoder(hidden_repeated)\n",
    "        return decoded\n",
    "    \n"
   ]
  },
  {
   "cell_type": "code",
   "execution_count": 34,
   "id": "cac9ee54",
   "metadata": {},
   "outputs": [
    {
     "name": "stdout",
     "output_type": "stream",
     "text": [
      "Channel ID: P-1\n",
      "  Train shape: (2872, 25), Test shape: (8505, 25)\n"
     ]
    }
   ],
   "source": [
    "for i, row in chan_df.iterrows():\n",
    "    print(f\"Channel ID: {row['chan_id']}\")\n",
    "    chan_train = np.load(path + f'/data/data/train/{row[\"chan_id\"]}.npy')\n",
    "    chan_test = np.load(path + f'/data/data/test/{row[\"chan_id\"]}.npy')\n",
    "    chan_anomalies = np.zeros(chan_test.shape[0], dtype=int)\n",
    "    for (start, end) in eval(row['anomaly_sequences']):\n",
    "        chan_anomalies[start:end+1] = 1  # Mark anomalies in the test set\n",
    "    print(f\"  Train shape: {chan_train.shape}, Test shape: {chan_test.shape}\")\n",
    "    break #TODO run on all datasets\n",
    "    \n"
   ]
  },
  {
   "cell_type": "code",
   "execution_count": 35,
   "id": "8f126b32",
   "metadata": {},
   "outputs": [
    {
     "name": "stdout",
     "output_type": "stream",
     "text": [
      "Using MPS device\n"
     ]
    }
   ],
   "source": [
    "if torch.backends.mps.is_available():\n",
    "    device = torch.device(\"mps\")\n",
    "    print(\"Using MPS device\")\n",
    "elif torch.cuda.is_available():\n",
    "    device = torch.device(\"cuda\")\n",
    "    print(\"Using CUDA device\")\n",
    "else:\n",
    "    device = torch.device(\"cpu\")\n",
    "    print(\"Using CPU device\")"
   ]
  },
  {
   "cell_type": "code",
   "execution_count": 36,
   "id": "c8a3f116",
   "metadata": {},
   "outputs": [
    {
     "name": "stdout",
     "output_type": "stream",
     "text": [
      "(1, 2872, 25)\n",
      "Epoch [10/100], Loss: 0.0288\n",
      "Epoch [20/100], Loss: 0.0255\n",
      "Epoch [30/100], Loss: 0.0247\n",
      "Epoch [40/100], Loss: 0.0246\n",
      "Epoch [50/100], Loss: 0.0246\n",
      "Epoch [60/100], Loss: 0.0246\n",
      "Epoch [70/100], Loss: 0.0246\n",
      "Epoch [80/100], Loss: 0.0246\n",
      "Epoch [90/100], Loss: 0.0246\n",
      "Epoch [100/100], Loss: 0.0246\n"
     ]
    }
   ],
   "source": [
    "from sklearn.metrics import classification_report\n",
    "chan_train = chan_train.reshape(1, -1, chan_train.shape[1]) # reshape for LSTM TODO: Maybe add input batching\n",
    "print(chan_train.shape)\n",
    "train_data = torch.FloatTensor(chan_train)\n",
    "train_dataset = TensorDataset(train_data, train_data)\n",
    "train_dataloader = DataLoader(train_dataset, batch_size=1, shuffle=False)\n",
    "\n",
    "chan_test = chan_test.reshape(1, -1, chan_test.shape[1]) # reshape for LSTM TODO: Maybe add input batching\n",
    "test_data = torch.FloatTensor(chan_test)\n",
    "test_dataset = TensorDataset(test_data, test_data)\n",
    "test_dataloader = DataLoader(test_dataset, batch_size=1, shuffle=False)\n",
    "\n",
    "# model = Autoencoder(input_size=chan_train.shape[1], hidden_size=16).to(device)\n",
    "model = LSTMAutoencoder(seq_len=chan_train.shape[1], n_features=chan_train.shape[2], hidden_size=64).to(device)\n",
    "criterion = nn.MSELoss()\n",
    "optimizer = optim.Adam(model.parameters(), lr=0.001)\n",
    "\n",
    "\n",
    "num_epochs = 100\n",
    "for epoch in range(num_epochs):\n",
    "    model.train()\n",
    "    for batch_data, _ in train_dataloader:\n",
    "        batch_data = batch_data.to(device)\n",
    "        optimizer.zero_grad()\n",
    "        outputs = model(batch_data)\n",
    "        loss = criterion(outputs, batch_data)\n",
    "        loss.backward()\n",
    "        optimizer.step()\n",
    "    if (epoch+1) % 10 == 0:\n",
    "        print(f'Epoch [{epoch+1}/{num_epochs}], Loss: {loss.item():.4f}')\n",
    "\n"
   ]
  },
  {
   "cell_type": "code",
   "execution_count": 37,
   "id": "e7b34aa4",
   "metadata": {},
   "outputs": [
    {
     "name": "stdout",
     "output_type": "stream",
     "text": [
      "calculating reconstruction for window: 0 to 2872\n",
      "8505\n",
      "calculating reconstruction for window: 2872 to 5744\n",
      "8505\n",
      "calculating reconstruction for window: 5633 to 8505\n",
      "8505\n",
      "torch.Size([1, 8505, 25])\n",
      "torch.Size([1, 8505, 25])\n",
      "Reconstruction error threshold (95th percentile): 0.14385579526424408\n",
      "(8505,) (8505,)\n"
     ]
    }
   ],
   "source": [
    "import matplotlib.pyplot as plt\n",
    "model.eval()\n",
    "with torch.no_grad():\n",
    "    reconstructed = torch.zeros_like(test_data).to(device)\n",
    "    for i in range(0, test_data.shape[1], model.seq_len):\n",
    "        if i + model.seq_len > test_data.shape[1]:\n",
    "            # Handle last incomplete window by overlapping\n",
    "            i = test_data.shape[1] - model.seq_len\n",
    "        print(\"calculating reconstruction for window:\", i, \"to\", i+model.seq_len)\n",
    "        print(test_data.shape[1])\n",
    "        window = test_data[:, i:i+model.seq_len, :].to(device)\n",
    "\n",
    "        recon_window = model(window)\n",
    "        reconstructed[:, i:i+model.seq_len, :] = recon_window\n",
    "    print(test_data.shape)\n",
    "    print(reconstructed.shape)\n",
    "    reconstruction_error = torch.mean((test_data.to(device) - reconstructed) ** 2, dim=2).cpu().numpy()\n",
    "    reconstruction_error = reconstruction_error.flatten()\n",
    "\n",
    "    threshold = np.percentile(reconstruction_error, 95)\n",
    "    print(f\"Reconstruction error threshold (95th percentile): {threshold}\")\n",
    "    anomalies = reconstruction_error > threshold\n",
    "\n",
    "    print(anomalies.shape, chan_anomalies.shape)\n",
    " \n",
    "    report_dict = classification_report(chan_anomalies, anomalies, output_dict=True)\n",
    "\n",
    "\n"
   ]
  },
  {
   "cell_type": "code",
   "execution_count": 38,
   "id": "3681940f",
   "metadata": {},
   "outputs": [
    {
     "data": {
      "image/png": "[encoded data removed]",
      "text/plain": [
       "<Figure size 800x220 with 2 Axes>"
      ]
     },
     "metadata": {},
     "output_type": "display_data"
    }
   ],
   "source": [
    "# Extract metrics\n",
    "classes = [key for key in report_dict.keys() if key not in ('accuracy', 'macro avg', 'weighted avg')]\n",
    "metrics = ['precision', 'recall', 'f1-score']\n",
    "values = np.array([[report_dict[c][m] for m in metrics] for c in classes])\n",
    "\n",
    "# Plot\n",
    "fig, ax = plt.subplots(figsize=(8, len(classes)*0.6 + 1))\n",
    "im = ax.imshow(values, cmap='Blues', vmin=0, vmax=1)\n",
    "\n",
    "# Show all ticks and labels\n",
    "ax.set_xticks(np.arange(len(metrics)))\n",
    "ax.set_yticks(np.arange(len(classes)))\n",
    "ax.set_xticklabels(metrics)\n",
    "ax.set_yticklabels(classes)\n",
    "\n",
    "# Rotate the tick labels and set alignment\n",
    "plt.setp(ax.get_xticklabels(), rotation=45, ha=\"right\", rotation_mode=\"anchor\")\n",
    "\n",
    "# Loop over data dimensions and create text annotations.\n",
    "for i in range(len(classes)):\n",
    "    for j in range(len(metrics)):\n",
    "        text = ax.text(j, i, f\"{values[i, j]:.2f}\", ha=\"center\", va=\"center\", color=\"black\")\n",
    "\n",
    "ax.set_title(\"Classification Report\")\n",
    "fig.colorbar(im, ax=ax, fraction=0.03, pad=0.04, label='Score')\n",
    "plt.tight_layout()\n",
    "plt.show()"
   ]
  }
 ],
 "metadata": {
  "kernelspec": {
   "display_name": "AE-Comp",
   "language": "python",
   "name": "python3"
  },
  "language_info": {
   "codemirror_mode": {
    "name": "ipython",
    "version": 3
   },
   "file_extension": ".py",
   "mimetype": "text/x-python",
   "name": "python",
   "nbconvert_exporter": "python",
   "pygments_lexer": "ipython3",
   "version": "3.12.0"
  }
 },
 "nbformat": 4,
 "nbformat_minor": 5
}
