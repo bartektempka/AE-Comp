{
 "cells": [
  {
   "cell_type": "code",
   "execution_count": 2,
   "id": "c8bd069c",
   "metadata": {},
   "outputs": [],
   "source": [
    "import kagglehub\n",
    "\n",
    "# Download latest version\n",
    "path = kagglehub.dataset_download(\"patrickfleith/nasa-anomaly-detection-dataset-smap-msl\")"
   ]
  }
 ],
 "metadata": {
  "kernelspec": {
   "display_name": "AE-Comp",
   "language": "python",
   "name": "python3"
  },
  "language_info": {
   "codemirror_mode": {
    "name": "ipython",
    "version": 3
   },
   "file_extension": ".py",
   "mimetype": "text/x-python",
   "name": "python",
   "nbconvert_exporter": "python",
   "pygments_lexer": "ipython3",
   "version": "3.12.0"
  }
 },
 "nbformat": 4,
 "nbformat_minor": 5
}
